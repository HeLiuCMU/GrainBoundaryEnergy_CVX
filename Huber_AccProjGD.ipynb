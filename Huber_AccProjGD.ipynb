{
 "cells": [
  {
   "cell_type": "code",
   "execution_count": 86,
   "metadata": {
    "collapsed": true
   },
   "outputs": [],
   "source": [
    "# implementation of Accelerate projected Gradient Descent, with Huber loss function\n",
    "import matplotlib.pyplot as plt\n",
    "import sys\n",
    "import time"
   ]
  },
  {
   "cell_type": "code",
   "execution_count": 91,
   "metadata": {},
   "outputs": [
    {
     "name": "stdout",
     "output_type": "stream",
     "text": [
      "9"
     ]
    }
   ],
   "source": []
  },
  {
   "cell_type": "code",
   "execution_count": 2,
   "metadata": {},
   "outputs": [
    {
     "name": "stdout",
     "output_type": "stream",
     "text": [
      "(40188, 3, 36)\n",
      "(40188, 3, 36, 3, 3)\n"
     ]
    }
   ],
   "source": [
    "# load data to matrix A\n",
    "# code from YufengShen\n",
    "from readtmx import readtmx\n",
    "omega=0.05\n",
    "res=readtmx('AdamM_files-17Jan08/triples.tmx',numTJ=40188)\n",
    "\n",
    "print res[0].shape\n",
    "\n",
    "print res[1].shape\n",
    "\n",
    "from scipy.sparse import csr_matrix\n",
    "import numpy as np\n",
    "\n",
    "data=np.swapaxes(res[1],1,3).ravel()\n",
    "row_ind=np.tile(np.arange(res[0].shape[0]*3),(36*3*3,1)).T.ravel()\n",
    "\n",
    "tmp=np.swapaxes(np.swapaxes(np.tile(res[0],(3,3,1,1,1)),0,2),2,4)\n",
    "tmp[:,:,:,:,1]+=(36*9**4)\n",
    "tmp[:,:,:,:,2]+=(2*36*9**4)\n",
    "col_ind=tmp.ravel()-1\n",
    "del tmp\n",
    "\n",
    "A=csr_matrix((data,(row_ind,col_ind)),shape=(res[0].shape[0]*3,3*36*9**4))\n",
    "del data\n",
    "del row_ind\n",
    "del col_ind\n",
    "\n",
    "#xic=np.loadtxt('../AdamM_files-17Jan08/AdamM_files-17Jan08/iter0/cap_vec.res')\n",
    "#X=xic.T.ravel().reshape((-1,1))\n",
    "\n"
   ]
  },
  {
   "cell_type": "code",
   "execution_count": 93,
   "metadata": {},
   "outputs": [
    {
     "name": "stdout",
     "output_type": "stream",
     "text": [
      "iteration: 1999 "
     ]
    }
   ],
   "source": [
    "# initial method implemented by Adam\n",
    "num_iter=2000\n",
    "lOriResidue = []\n",
    "#initialize X\n",
    "xic=np.loadtxt('/home/heliu/Dropbox/CO/project/AdamM_files-17Jan08/cap_vec.res')\n",
    "X=xic.T.ravel().reshape((-1,1))\n",
    "norm = np.linalg.norm(X)\n",
    "lOrigX = []\n",
    "# Projected GD\n",
    "for ii in range(num_iter):\n",
    "    sys.stdout.write('\\r'+'iteration: {0} '.format(ii))\n",
    "    if ii%300==0:\n",
    "        lOrigX.append(X)\n",
    "    d=A.dot(X)\n",
    "    newX=X-omega/36.0/9.0*A.transpose().dot(d)\n",
    "    X=newX*norm/np.linalg.norm(newX)\n",
    "    residue = np.linalg.norm(d)\n",
    "    lOriResidue.append(residue)\n",
    "    sys.stdout.flush()\n",
    "lOriResidue.append(np.linalg.norm(A.dot(X)))\n",
    "originX = X"
   ]
  },
  {
   "cell_type": "code",
   "execution_count": 94,
   "metadata": {},
   "outputs": [
    {
     "name": "stdout",
     "output_type": "stream",
     "text": [
      "iteration: 399 "
     ]
    }
   ],
   "source": [
    "# using Huber Loss & acc Projected GD\n",
    "# acc Projected GD not a descent method !\n",
    "num_iter=400\n",
    "lAccResidue = []\n",
    "M = 500\n",
    "omega=0.05\n",
    "#initialize X\n",
    "xic=np.loadtxt('/home/heliu/Dropbox/CO/project/AdamM_files-17Jan08/cap_vec.res')\n",
    "X=xic.T.ravel().reshape((-1,1))\n",
    "norm = np.linalg.norm(X)\n",
    "preX = X   #X_k-1\n",
    "prepreX = X #x_k-2\n",
    "lAccX = []\n",
    "# Projected GD\n",
    "for ii in range(num_iter):\n",
    "    sys.stdout.write('\\r'+'iteration: {0} '.format(ii))\n",
    "    prepreX = preX\n",
    "    preX = X\n",
    "    v = preX + float(ii-1)/(ii+2)*(preX-prepreX)\n",
    "    d=A.dot(v)\n",
    "    residue = np.linalg.norm(d)\n",
    "    if residue<M:\n",
    "        X=v-omega/36.0/9.0*A.transpose().dot(d)\n",
    "    else:\n",
    "        X = v - omega/36.0/9.0*A.transpose().dot(d)*M/residue\n",
    "    X=X*norm/np.linalg.norm(X)\n",
    "    lAccResidue.append(residue)\n",
    "    if ii%100==0:\n",
    "        lAccX.append(X)\n",
    "    sys.stdout.flush()\n",
    "lAccResidue.append(np.linalg.norm(A.dot(X)))\n",
    "accX = X"
   ]
  },
  {
   "cell_type": "code",
   "execution_count": 96,
   "metadata": {},
   "outputs": [
    {
     "data": {
      "image/png": "[encoded data removed]",
      "text/plain": [
       "<matplotlib.figure.Figure at 0x7f4ef8e27dd0>"
      ]
     },
     "metadata": {},
     "output_type": "display_data"
    }
   ],
   "source": [
    "#print(lAccResidue)\n",
    "lineOri, = plt.plot(lOriResidue,label='l2,Projected G.D.')\n",
    "#lineHuber, = plt.plot(lHuberResidue,label='Huber,Projected G.D.')\n",
    "lineAcc, = plt.plot(lAccResidue, label='Huber, Acc Projected G.D.')\n",
    "plt.title(' |Ax| vs iteration')\n",
    "plt.ylabel('|Ax|')\n",
    "plt.xlabel('iteration')\n",
    "plt.ylim([0,2500])\n",
    "plt.legend()\n",
    "plt.show()"
   ]
  },
  {
   "cell_type": "code",
   "execution_count": 68,
   "metadata": {},
   "outputs": [],
   "source": [
    "# read index \n",
    "from scipy.io import loadmat\n",
    "fMat = '/home/heliu/Dropbox/CO/project/TwoIndex_res10.mat'\n",
    "mat = loadmat(fMat)\n",
    "gbcdIndex = mat['gbcd_index']\n",
    "graphIndex = mat['graph_index']\n",
    "data_input=np.loadtxt('/home/heliu/Dropbox/CO/project/iter300/energy_v.res')\n",
    "data_output=np.empty(data_input.shape)\n",
    "data_output[graphIndex-1]=data_input[gbcdIndex-1]\n",
    "np.savetxt('/home/heliu/Dropbox/CO/project/161201_GBCD_Tools/gbcd_graph/energy_converted.res',data_output)\n",
    "# edit input.txt ,input file, misorientation\n",
    "# ./graph_gbcd\n",
    "# to MAC\n",
    "# ./Draw_stereograms 1 energy_converted_gmt_ 5d rainbow  0.32   1.35  0.10"
   ]
  },
  {
   "cell_type": "code",
   "execution_count": 97,
   "metadata": {},
   "outputs": [
    {
     "name": "stdout",
     "output_type": "stream",
     "text": [
      "(236196, 3)\n",
      "(236196, 3)\n",
      "(236196,)\n",
      "[ 0.75194183  0.64556022  1.1947587  ...,  0.69503057  0.75132625\n",
      "  0.47892772]\n",
      "[ 1.156158    0.5485038   1.09560676 ...,  0.65220003  0.66490393\n",
      "  1.89029944]\n"
     ]
    }
   ],
   "source": [
    "# test on iteration 300 from Adam code\n",
    "normN = np.loadtxt('/home/heliu/Dropbox/CO/project/AdamM_files-17Jan08/cap_vec.res')\n",
    "print(normN.shape)\n",
    "reshapeX = np.hstack([X[:normN.shape[0]],X[normN.shape[0]:2*normN.shape[0]],X[2*normN.shape[0]:]])\n",
    "print(reshapeX.shape)\n",
    "energy = np.sum(normN*reshapeX,axis=1)\n",
    "print(energy.shape)\n",
    "capVec = np.loadtxt('/home/heliu/Dropbox/CO/project/iter300/cap_vec.res')\n",
    "energyAdam = np.sum(normN*capVec,axis=1)\n",
    "print(energyAdam)\n",
    "print(energy)"
   ]
  },
  {
   "cell_type": "code",
   "execution_count": 56,
   "metadata": {},
   "outputs": [
    {
     "name": "stdout",
     "output_type": "stream",
     "text": [
      "[ 0.88994349  0.44735356  0.96310891 ...,  0.85545043  1.15115073\n",
      "  2.46795112]\n"
     ]
    }
   ],
   "source": [
    "print(np.linalg.norm(energyAdam)/np.linalg.norm(energy)*energy)"
   ]
  },
  {
   "cell_type": "code",
   "execution_count": 77,
   "metadata": {},
   "outputs": [],
   "source": [
    "np.savetxt('accPGD_energy.txt',energy)"
   ]
  },
  {
   "cell_type": "code",
   "execution_count": 79,
   "metadata": {},
   "outputs": [
    {
     "data": {
      "image/png": "[encoded data removed]",
      "text/plain": [
       "<matplotlib.figure.Figure at 0x7f4eea521390>"
      ]
     },
     "metadata": {},
     "output_type": "display_data"
    }
   ],
   "source": [
    "import matplotlib.pyplot as plt\n",
    "error = energy-energyAdam\n",
    "plt.hist(error,bins=100)\n",
    "plt.show()"
   ]
  },
  {
   "cell_type": "code",
   "execution_count": null,
   "metadata": {
    "collapsed": true
   },
   "outputs": [],
   "source": []
  }
 ],
 "metadata": {
  "kernelspec": {
   "display_name": "Python 2",
   "language": "python",
   "name": "python2"
  },
  "language_info": {
   "codemirror_mode": {
    "name": "ipython",
    "version": 2
   },
   "file_extension": ".py",
   "mimetype": "text/x-python",
   "name": "python",
   "nbconvert_exporter": "python",
   "pygments_lexer": "ipython2",
   "version": "2.7.14"
  }
 },
 "nbformat": 4,
 "nbformat_minor": 2
}
