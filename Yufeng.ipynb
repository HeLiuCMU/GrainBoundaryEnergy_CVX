{
 "cells": [
  {
   "cell_type": "code",
   "execution_count": 4,
   "metadata": {},
   "outputs": [
    {
     "name": "stdout",
     "output_type": "stream",
     "text": [
      "(40188, 3, 36)\n",
      "(40188, 3, 36, 3, 3)\n"
     ]
    }
   ],
   "source": [
    "from readtmx import readtmx\n",
    "omega=0.05\n",
    "res=readtmx('AdamM_files-17Jan08/triples.tmx',numTJ=40188)\n",
    "\n",
    "print res[0].shape\n",
    "\n",
    "print res[1].shape\n",
    "\n",
    "from scipy.sparse import csr_matrix\n",
    "import numpy as np\n",
    "\n",
    "data=np.swapaxes(res[1],1,3).ravel()\n",
    "row_ind=np.tile(np.arange(res[0].shape[0]*3),(36*3*3,1)).T.ravel()\n",
    "\n",
    "tmp=np.swapaxes(np.swapaxes(np.tile(res[0],(3,3,1,1,1)),0,2),2,4)\n",
    "tmp[:,:,:,:,1]+=(36*9**4)\n",
    "tmp[:,:,:,:,2]+=(2*36*9**4)\n",
    "col_ind=tmp.ravel()-1\n",
    "del tmp\n",
    "\n",
    "A=csr_matrix((data,(row_ind,col_ind)),shape=(res[0].shape[0]*3,3*36*9**4))\n",
    "del data\n",
    "del row_ind\n",
    "del col_ind\n",
    "\n",
    "xic=np.loadtxt('/home/heliu/Dropbox/CO/project/AdamM_files-17Jan08/cap_vec.res')\n",
    "\n",
    "X=xic.T.ravel().reshape((-1,1))\n",
    "\n"
   ]
  },
  {
   "cell_type": "code",
   "execution_count": 5,
   "metadata": {
    "collapsed": true
   },
   "outputs": [],
   "source": [
    "num_iter=300\n",
    "for ii in range(num_iter):\n",
    "    d=A*X\n",
    "    newX=X-omega/36.0/9.0*A.transpose()*d\n",
    "    X=newX*(np.sum(xic**2)/np.sum(newX**2))**0.5"
   ]
  },
  {
   "cell_type": "code",
   "execution_count": 6,
   "metadata": {},
   "outputs": [
    {
     "name": "stdout",
     "output_type": "stream",
     "text": [
      "(236196, 3)\n",
      "(236196, 3)\n",
      "(236196,)\n",
      "[ 0.75194183  0.64556022  1.1947587  ...,  0.69503057  0.75132625\n",
      "  0.47892772]\n",
      "[ 1.30085654  0.6752242   1.19273397 ...,  0.71444184  0.73038434\n",
      "  1.84455964]\n"
     ]
    }
   ],
   "source": [
    "# test on iteration 300 from Adam code\n",
    "normN = np.loadtxt('/home/heliu/Dropbox/CO/project/AdamM_files-17Jan08/cap_vec.res')\n",
    "print(normN.shape)\n",
    "reshapeX = np.hstack([X[:normN.shape[0]],X[normN.shape[0]:2*normN.shape[0]],X[2*normN.shape[0]:]])\n",
    "print(reshapeX.shape)\n",
    "energy = np.sum(normN*reshapeX,axis=1)\n",
    "print(energy.shape)\n",
    "capVec = np.loadtxt('/home/heliu/Dropbox/CO/project/iter300/cap_vec.res')\n",
    "energyAdam = np.sum(normN*capVec,axis=1)\n",
    "print(energyAdam)\n",
    "print(energy)"
   ]
  },
  {
   "cell_type": "code",
   "execution_count": 13,
   "metadata": {},
   "outputs": [
    {
     "data": {
      "image/png": "[encoded data removed]",
      "text/plain": [
       "<matplotlib.figure.Figure at 0x7faec6cc6490>"
      ]
     },
     "metadata": {},
     "output_type": "display_data"
    }
   ],
   "source": [
    "import matplotlib.pyplot as plt\n",
    "error = energy-energyAdam\n",
    "plt.hist(error,bins=100)\n",
    "plt.show()"
   ]
  },
  {
   "cell_type": "code",
   "execution_count": null,
   "metadata": {
    "collapsed": true
   },
   "outputs": [],
   "source": []
  }
 ],
 "metadata": {
  "kernelspec": {
   "display_name": "Python 2",
   "language": "python",
   "name": "python2"
  },
  "language_info": {
   "codemirror_mode": {
    "name": "ipython",
    "version": 2
   },
   "file_extension": ".py",
   "mimetype": "text/x-python",
   "name": "python",
   "nbconvert_exporter": "python",
   "pygments_lexer": "ipython2",
   "version": "2.7.14"
  }
 },
 "nbformat": 4,
 "nbformat_minor": 2
}
